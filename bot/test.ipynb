{
 "cells": [
  {
   "cell_type": "code",
   "execution_count": 1,
   "metadata": {},
   "outputs": [],
   "source": [
    "from wit import Wit\n",
    "from model import *"
   ]
  },
  {
   "cell_type": "code",
   "execution_count": 71,
   "metadata": {},
   "outputs": [],
   "source": [
    "client = Wit('OTZ4HIQAX47G7YGIXS43IQ6C5DL5DIZG')"
   ]
  },
  {
   "cell_type": "code",
   "execution_count": 66,
   "metadata": {},
   "outputs": [],
   "source": [
    "bot = Bot(access_token = '3FAUDM3GMNS77FKKG52TSUUA36CIJNXJ')\n"
   ]
  },
  {
   "cell_type": "code",
   "execution_count": 4,
   "metadata": {},
   "outputs": [],
   "source": [
    "\n",
    "def first_entity_resolved_value(entities, entity):\n",
    "    if entity not in entities:\n",
    "        return None\n",
    "    val = entities[entity][0];\n",
    "    if 'resolved' not in val:\n",
    "        return None\n",
    "    val = val['resolved']['values'][0]\n",
    "    if not val:\n",
    "        return None\n",
    "    return val\n"
   ]
  },
  {
   "cell_type": "code",
   "execution_count": 105,
   "metadata": {},
   "outputs": [],
   "source": [
    "resp = client.message('Tell me about me')\n"
   ]
  },
  {
   "cell_type": "code",
   "execution_count": 106,
   "metadata": {
    "scrolled": true
   },
   "outputs": [
    {
     "data": {
      "text/plain": [
       "{'text': 'Tell me about me',\n",
       " 'intents': [{'id': '560256191334634',\n",
       "   'name': 'search',\n",
       "   'confidence': 0.9522}],\n",
       " 'entities': {},\n",
       " 'traits': {}}"
      ]
     },
     "execution_count": 106,
     "metadata": {},
     "output_type": "execute_result"
    }
   ],
   "source": [
    "resp"
   ]
  },
  {
   "cell_type": "code",
   "execution_count": 53,
   "metadata": {
    "scrolled": false
   },
   "outputs": [
    {
     "data": {
      "text/plain": [
       "{}"
      ]
     },
     "execution_count": 53,
     "metadata": {},
     "output_type": "execute_result"
    }
   ],
   "source": [
    "resp['traits']"
   ]
  },
  {
   "cell_type": "code",
   "execution_count": 52,
   "metadata": {},
   "outputs": [
    {
     "data": {
      "text/plain": [
       "[{'id': '298313861556501', 'name': 'location', 'confidence': 0.9721}]"
      ]
     },
     "execution_count": 52,
     "metadata": {},
     "output_type": "execute_result"
    }
   ],
   "source": [
    "resp['intents']"
   ]
  }
 ],
 "metadata": {
  "kernelspec": {
   "display_name": "webd",
   "language": "python",
   "name": "webd"
  },
  "language_info": {
   "codemirror_mode": {
    "name": "ipython",
    "version": 3
   },
   "file_extension": ".py",
   "mimetype": "text/x-python",
   "name": "python",
   "nbconvert_exporter": "python",
   "pygments_lexer": "ipython3",
   "version": "3.8.2"
  }
 },
 "nbformat": 4,
 "nbformat_minor": 4
}
